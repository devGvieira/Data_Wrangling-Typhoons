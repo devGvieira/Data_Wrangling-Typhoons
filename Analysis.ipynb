{
 "cells": [
  {
   "cell_type": "code",
   "execution_count": 8,
   "metadata": {},
   "outputs": [
    {
     "name": "stderr",
     "output_type": "stream",
     "text": [
      "/tmp/ipykernel_26405/1691547180.py:4: DtypeWarning: Columns (2) have mixed types. Specify dtype option on import or set low_memory=False.\n",
      "  df_original = pd.read_csv('Cleaned.csv')\n"
     ]
    }
   ],
   "source": [
    "import pandas as pd\n",
    "import numpy as np\n",
    "\n",
    "df_original = pd.read_csv('Cleaned.csv')\n",
    "\n",
    "columns = [\n",
    "    'International ID',\n",
    "    'Storm Names',\n",
    "    'Date and Time',\n",
    "    'Grade',\n",
    "    'Latitude of the Center',\n",
    "    'Longitude of the Center',\n",
    "    'Central Pressure',\n",
    "    'Maximum sustained wind speed',\n",
    "    'Direction of the longest radius of 50kt winds or greater',\n",
    "    'Longest radius of 50kt winds or greater',\n",
    "    'Shortest radius of 50kt winds or greater',\n",
    "    'Direction of the longest radius of 30kt winds or greater',\n",
    "    'Longest radius of 30kt winds or greater'\n",
    "]\n",
    "\n",
    "na_count = df_original[columns].isna().sum()\n",
    "\n",
    "columns_to_drop = [\n",
    "    'Maximum sustained wind speed',\n",
    "    'Direction of the longest radius of 50kt winds or greater',\n",
    "    'Longest radius of 50kt winds or greater',\n",
    "    'Shortest radius of 50kt winds or greater',\n",
    "    'Direction of the longest radius of 30kt winds or greater',\n",
    "    'Longest radius of 30kt winds or greater'\n",
    "]\n",
    "\n",
    "df = df_original.drop(columns_to_drop, axis =1)\n",
    "df = df.drop('Unnamed: 0', axis=1)\n"
   ]
  },
  {
   "cell_type": "code",
   "execution_count": 6,
   "metadata": {},
   "outputs": [
    {
     "data": {
      "text/plain": [
       "DeltaGenerator()"
      ]
     },
     "execution_count": 6,
     "metadata": {},
     "output_type": "execute_result"
    }
   ],
   "source": [
    "import streamlit as st\n",
    "\n",
    "td = len(df[df.Grade == 'Tropical Depression (TD)'].count(axis=1))\n",
    "ts = len(df[df.Grade == 'Tropical Storm (TS)'].count(axis=1))\n",
    "sts = len(df[df.Grade == 'Severe Tropical Storm (STS)'].count(axis=1))\n",
    "ty = len(df[df.Grade == 'Typhoon (TY)'].count(axis=1))\n",
    "l = len(df[df.Grade == 'Extra-tropical Cyclone (L)'].count(axis=1))\n",
    "\n",
    "grade_ocurrence = [td, ts, sts, ty, l]\n",
    "\n",
    "grade = ['Tropical Depression (TD)',\n",
    "    'Tropical Storm (TS)',\n",
    "    'Severe Tropical Storm (STS)',\n",
    "    'Typhoon (TY)',\n",
    "    'Extra-tropical Cyclone (L)']\n",
    "\n",
    "data_ocurrence = pd.DataFrame(grade_ocurrence,grade)\n",
    "\n",
    "st.bar_chart(data_ocurrence)"
   ]
  },
  {
   "cell_type": "code",
   "execution_count": 7,
   "metadata": {},
   "outputs": [],
   "source": [
    "from sklearn.metrics import mean_absolute_error\n",
    "from sklearn.model_selection import train_test_split\n",
    "from sklearn.ensemble import RandomForestRegressor\n",
    "\n",
    "columns_to_use_for_training = [\n",
    "    'Date and Time',\n",
    "    'Latitude of the Center',\n",
    "    'Longitude of the Center'\n",
    "]\n",
    "\n",
    "y = df.loc[:, 'Grade']\n",
    "x = df.loc[:, columns_to_use_for_training]\n",
    "\n",
    "train_X, val_X, train_y, val_y = train_test_split(x, y, random_state = 0)\n",
    "\n",
    "# Applying Random Forest model\n",
    "forest_model = RandomForestRegressor(random_state=1)\n",
    "forest_model.fit(train_X, train_y)\n",
    "\n",
    "# Checking the model's MAE\n",
    "y_prediction = forest_model.predict(val_X)\n",
    "print(\"The model's mean absolute error is:\")\n",
    "print(mean_absolute_error(val_y, y_prediction))\n",
    "\n",
    "# Checking model's predictions\n",
    "prediction = forest_model.predict(X)\n",
    "difference = y-prediction\n",
    "print(\"The predictions are:\")\n",
    "print(prediction)\n",
    "\n",
    "# Checking prediction's standard deviation\n",
    "print(\"The standard deviation associated to the predicted values is:\")\n",
    "print(np.std(prediction))\n",
    "\n",
    "# Checking mean difference between true and predicted values\n",
    "print(\"The mean difference between the actual values and predicted values is:\")\n",
    "print(difference.mean())\n"
   ]
  },
  {
   "cell_type": "code",
   "execution_count": null,
   "metadata": {},
   "outputs": [],
   "source": []
  }
 ],
 "metadata": {
  "kernelspec": {
   "display_name": "typhoon-env",
   "language": "python",
   "name": "python3"
  },
  "language_info": {
   "codemirror_mode": {
    "name": "ipython",
    "version": 3
   },
   "file_extension": ".py",
   "mimetype": "text/x-python",
   "name": "python",
   "nbconvert_exporter": "python",
   "pygments_lexer": "ipython3",
   "version": "3.8.10"
  }
 },
 "nbformat": 4,
 "nbformat_minor": 2
}
