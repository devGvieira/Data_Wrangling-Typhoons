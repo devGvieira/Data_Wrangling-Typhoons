{
 "cells": [
  {
   "cell_type": "code",
   "execution_count": 1,
   "metadata": {},
   "outputs": [
    {
     "name": "stdout",
     "output_type": "stream",
     "text": [
      "68750\n"
     ]
    },
    {
     "data": {
      "text/plain": [
       "International number ID                                         0\n",
       "Name of the storm                                            1777\n",
       "Time of analysis                                                0\n",
       "Grade                                                           0\n",
       "Latitude of the center                                          0\n",
       "Longitude of the center                                         0\n",
       "Central pressure                                                0\n",
       "Maximum sustained wind speed                                25268\n",
       "Direction of the longest radius of 50kt winds or greater    41451\n",
       "The longest radius of 50kt winds or greater                 41451\n",
       "The shortest radius of 50kt winds or greater                41451\n",
       "Direction of the longest radius of 30kt winds or greater    41451\n",
       "The longest radius of 30kt winds or greater                 41451\n",
       "The shortest radius of 30kt winds or greater                41451\n",
       "Indicator of landfall or passage                                0\n",
       "dtype: int64"
      ]
     },
     "execution_count": 1,
     "metadata": {},
     "output_type": "execute_result"
    }
   ],
   "source": [
    "import pandas as pd\n",
    "\n",
    "df_clean = pd.read_csv('data_typhoons.csv')\n",
    "\n",
    "print(len(df_clean))\n",
    "df_clean.isna().sum()"
   ]
  },
  {
   "cell_type": "code",
   "execution_count": 2,
   "metadata": {},
   "outputs": [
    {
     "data": {
      "text/plain": [
       "68696"
      ]
     },
     "execution_count": 2,
     "metadata": {},
     "output_type": "execute_result"
    }
   ],
   "source": [
    "68696"
   ]
  }
 ],
 "metadata": {
  "kernelspec": {
   "display_name": "typhoon-env",
   "language": "python",
   "name": "python3"
  },
  "language_info": {
   "codemirror_mode": {
    "name": "ipython",
    "version": 3
   },
   "file_extension": ".py",
   "mimetype": "text/x-python",
   "name": "python",
   "nbconvert_exporter": "python",
   "pygments_lexer": "ipython3",
   "version": "3.8.10"
  }
 },
 "nbformat": 4,
 "nbformat_minor": 2
}
